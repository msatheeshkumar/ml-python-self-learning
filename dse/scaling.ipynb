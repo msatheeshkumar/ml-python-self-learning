{
 "cells": [
  {
   "cell_type": "code",
   "execution_count": 12,
   "id": "b56dee1c-5a5a-4ac8-afdc-aa08b33dc528",
   "metadata": {},
   "outputs": [
    {
     "name": "stdout",
     "output_type": "stream",
     "text": [
      "Exception reporting mode: Plain\n"
     ]
    }
   ],
   "source": [
    "import pandas as pd\n",
    "import numpy as np\n",
    "\n",
    "%xmode plain"
   ]
  },
  {
   "cell_type": "code",
   "execution_count": 3,
   "id": "f0aba4fb-b988-4d7e-8acc-37d6bcb5ac24",
   "metadata": {},
   "outputs": [],
   "source": [
    "df = pd.io.parsers.read_csv('https://raw.githubusercontent.com/rasbt/pattern_classification/master/data/wine_data.csv', header = None, usecols=[0,1,2])"
   ]
  },
  {
   "cell_type": "code",
   "execution_count": 4,
   "id": "f7162016-1e6e-4d71-b41c-5d559cdc9899",
   "metadata": {},
   "outputs": [
    {
     "data": {
      "text/html": [
       "<div>\n",
       "<style scoped>\n",
       "    .dataframe tbody tr th:only-of-type {\n",
       "        vertical-align: middle;\n",
       "    }\n",
       "\n",
       "    .dataframe tbody tr th {\n",
       "        vertical-align: top;\n",
       "    }\n",
       "\n",
       "    .dataframe thead th {\n",
       "        text-align: right;\n",
       "    }\n",
       "</style>\n",
       "<table border=\"1\" class=\"dataframe\">\n",
       "  <thead>\n",
       "    <tr style=\"text-align: right;\">\n",
       "      <th></th>\n",
       "      <th>0</th>\n",
       "      <th>1</th>\n",
       "      <th>2</th>\n",
       "    </tr>\n",
       "  </thead>\n",
       "  <tbody>\n",
       "    <tr>\n",
       "      <th>0</th>\n",
       "      <td>1</td>\n",
       "      <td>14.23</td>\n",
       "      <td>1.71</td>\n",
       "    </tr>\n",
       "    <tr>\n",
       "      <th>1</th>\n",
       "      <td>1</td>\n",
       "      <td>13.20</td>\n",
       "      <td>1.78</td>\n",
       "    </tr>\n",
       "    <tr>\n",
       "      <th>2</th>\n",
       "      <td>1</td>\n",
       "      <td>13.16</td>\n",
       "      <td>2.36</td>\n",
       "    </tr>\n",
       "    <tr>\n",
       "      <th>3</th>\n",
       "      <td>1</td>\n",
       "      <td>14.37</td>\n",
       "      <td>1.95</td>\n",
       "    </tr>\n",
       "    <tr>\n",
       "      <th>4</th>\n",
       "      <td>1</td>\n",
       "      <td>13.24</td>\n",
       "      <td>2.59</td>\n",
       "    </tr>\n",
       "    <tr>\n",
       "      <th>173</th>\n",
       "      <td>3</td>\n",
       "      <td>13.71</td>\n",
       "      <td>5.65</td>\n",
       "    </tr>\n",
       "    <tr>\n",
       "      <th>174</th>\n",
       "      <td>3</td>\n",
       "      <td>13.40</td>\n",
       "      <td>3.91</td>\n",
       "    </tr>\n",
       "    <tr>\n",
       "      <th>175</th>\n",
       "      <td>3</td>\n",
       "      <td>13.27</td>\n",
       "      <td>4.28</td>\n",
       "    </tr>\n",
       "    <tr>\n",
       "      <th>176</th>\n",
       "      <td>3</td>\n",
       "      <td>13.17</td>\n",
       "      <td>2.59</td>\n",
       "    </tr>\n",
       "    <tr>\n",
       "      <th>177</th>\n",
       "      <td>3</td>\n",
       "      <td>14.13</td>\n",
       "      <td>4.10</td>\n",
       "    </tr>\n",
       "  </tbody>\n",
       "</table>\n",
       "</div>"
      ],
      "text/plain": [
       "     0      1     2\n",
       "0    1  14.23  1.71\n",
       "1    1  13.20  1.78\n",
       "2    1  13.16  2.36\n",
       "3    1  14.37  1.95\n",
       "4    1  13.24  2.59\n",
       "173  3  13.71  5.65\n",
       "174  3  13.40  3.91\n",
       "175  3  13.27  4.28\n",
       "176  3  13.17  2.59\n",
       "177  3  14.13  4.10"
      ]
     },
     "execution_count": 4,
     "metadata": {},
     "output_type": "execute_result"
    }
   ],
   "source": [
    "df.head().append(df.tail())"
   ]
  },
  {
   "cell_type": "code",
   "execution_count": 6,
   "id": "f3628975-2c32-4088-a6c1-59ae3984ede0",
   "metadata": {},
   "outputs": [
    {
     "data": {
      "text/html": [
       "<div>\n",
       "<style scoped>\n",
       "    .dataframe tbody tr th:only-of-type {\n",
       "        vertical-align: middle;\n",
       "    }\n",
       "\n",
       "    .dataframe tbody tr th {\n",
       "        vertical-align: top;\n",
       "    }\n",
       "\n",
       "    .dataframe thead th {\n",
       "        text-align: right;\n",
       "    }\n",
       "</style>\n",
       "<table border=\"1\" class=\"dataframe\">\n",
       "  <thead>\n",
       "    <tr style=\"text-align: right;\">\n",
       "      <th></th>\n",
       "      <th>Class Label</th>\n",
       "      <th>Alcohol</th>\n",
       "      <th>Malic Acid</th>\n",
       "    </tr>\n",
       "  </thead>\n",
       "  <tbody>\n",
       "    <tr>\n",
       "      <th>0</th>\n",
       "      <td>1</td>\n",
       "      <td>14.23</td>\n",
       "      <td>1.71</td>\n",
       "    </tr>\n",
       "    <tr>\n",
       "      <th>1</th>\n",
       "      <td>1</td>\n",
       "      <td>13.20</td>\n",
       "      <td>1.78</td>\n",
       "    </tr>\n",
       "    <tr>\n",
       "      <th>2</th>\n",
       "      <td>1</td>\n",
       "      <td>13.16</td>\n",
       "      <td>2.36</td>\n",
       "    </tr>\n",
       "    <tr>\n",
       "      <th>3</th>\n",
       "      <td>1</td>\n",
       "      <td>14.37</td>\n",
       "      <td>1.95</td>\n",
       "    </tr>\n",
       "    <tr>\n",
       "      <th>4</th>\n",
       "      <td>1</td>\n",
       "      <td>13.24</td>\n",
       "      <td>2.59</td>\n",
       "    </tr>\n",
       "  </tbody>\n",
       "</table>\n",
       "</div>"
      ],
      "text/plain": [
       "   Class Label  Alcohol  Malic Acid\n",
       "0            1    14.23        1.71\n",
       "1            1    13.20        1.78\n",
       "2            1    13.16        2.36\n",
       "3            1    14.37        1.95\n",
       "4            1    13.24        2.59"
      ]
     },
     "execution_count": 6,
     "metadata": {},
     "output_type": "execute_result"
    }
   ],
   "source": [
    "df.columns = ['Class Label', 'Alcohol', 'Malic Acid']\n",
    "df.head()"
   ]
  },
  {
   "cell_type": "code",
   "execution_count": 7,
   "id": "78670638-318a-42dd-bef1-186afb6a5918",
   "metadata": {},
   "outputs": [],
   "source": [
    "from sklearn import preprocessing"
   ]
  },
  {
   "cell_type": "code",
   "execution_count": 31,
   "id": "debd89df-79b1-4550-a6da-e99bfd3c03fc",
   "metadata": {},
   "outputs": [
    {
     "data": {
      "text/html": [
       "<div>\n",
       "<style scoped>\n",
       "    .dataframe tbody tr th:only-of-type {\n",
       "        vertical-align: middle;\n",
       "    }\n",
       "\n",
       "    .dataframe tbody tr th {\n",
       "        vertical-align: top;\n",
       "    }\n",
       "\n",
       "    .dataframe thead th {\n",
       "        text-align: right;\n",
       "    }\n",
       "</style>\n",
       "<table border=\"1\" class=\"dataframe\">\n",
       "  <thead>\n",
       "    <tr style=\"text-align: right;\">\n",
       "      <th></th>\n",
       "      <th>Alcohol</th>\n",
       "      <th>Malic Acid</th>\n",
       "    </tr>\n",
       "  </thead>\n",
       "  <tbody>\n",
       "    <tr>\n",
       "      <th>0</th>\n",
       "      <td>14.23</td>\n",
       "      <td>1.71</td>\n",
       "    </tr>\n",
       "    <tr>\n",
       "      <th>1</th>\n",
       "      <td>13.20</td>\n",
       "      <td>1.78</td>\n",
       "    </tr>\n",
       "    <tr>\n",
       "      <th>2</th>\n",
       "      <td>13.16</td>\n",
       "      <td>2.36</td>\n",
       "    </tr>\n",
       "    <tr>\n",
       "      <th>3</th>\n",
       "      <td>14.37</td>\n",
       "      <td>1.95</td>\n",
       "    </tr>\n",
       "    <tr>\n",
       "      <th>4</th>\n",
       "      <td>13.24</td>\n",
       "      <td>2.59</td>\n",
       "    </tr>\n",
       "    <tr>\n",
       "      <th>...</th>\n",
       "      <td>...</td>\n",
       "      <td>...</td>\n",
       "    </tr>\n",
       "    <tr>\n",
       "      <th>173</th>\n",
       "      <td>13.71</td>\n",
       "      <td>5.65</td>\n",
       "    </tr>\n",
       "    <tr>\n",
       "      <th>174</th>\n",
       "      <td>13.40</td>\n",
       "      <td>3.91</td>\n",
       "    </tr>\n",
       "    <tr>\n",
       "      <th>175</th>\n",
       "      <td>13.27</td>\n",
       "      <td>4.28</td>\n",
       "    </tr>\n",
       "    <tr>\n",
       "      <th>176</th>\n",
       "      <td>13.17</td>\n",
       "      <td>2.59</td>\n",
       "    </tr>\n",
       "    <tr>\n",
       "      <th>177</th>\n",
       "      <td>14.13</td>\n",
       "      <td>4.10</td>\n",
       "    </tr>\n",
       "  </tbody>\n",
       "</table>\n",
       "<p>178 rows × 2 columns</p>\n",
       "</div>"
      ],
      "text/plain": [
       "     Alcohol  Malic Acid\n",
       "0      14.23        1.71\n",
       "1      13.20        1.78\n",
       "2      13.16        2.36\n",
       "3      14.37        1.95\n",
       "4      13.24        2.59\n",
       "..       ...         ...\n",
       "173    13.71        5.65\n",
       "174    13.40        3.91\n",
       "175    13.27        4.28\n",
       "176    13.17        2.59\n",
       "177    14.13        4.10\n",
       "\n",
       "[178 rows x 2 columns]"
      ]
     },
     "execution_count": 31,
     "metadata": {},
     "output_type": "execute_result"
    }
   ],
   "source": [
    "df[['Alcohol', 'Malic Acid']]"
   ]
  },
  {
   "cell_type": "code",
   "execution_count": 37,
   "id": "d0861349-f142-44e3-9ac5-4f0bbcdeb8b4",
   "metadata": {},
   "outputs": [],
   "source": [
    "std_scale = preprocessing.StandardScaler().fit(df[['Alcohol', 'Malic Acid']])\n",
    "df_std = std_scale.transform(df[['Alcohol', 'Malic Acid']])\n",
    "\n",
    "minmax_scale = preprocessing.MinMaxScaler().fit(df[['Alcohol', 'Malic Acid']])\n",
    "df_minmax = minmax_scale.transform(df[['Alcohol', 'Malic Acid']])"
   ]
  },
  {
   "cell_type": "code",
   "execution_count": 24,
   "id": "0b33e050-9f35-4be8-a26c-e60bbf22f418",
   "metadata": {},
   "outputs": [
    {
     "data": {
      "text/plain": [
       "array([-0.5622498 , -0.49941338,  0.02123125, -0.34681064,  0.22769377,\n",
       "       -0.51736664, -0.4186237 , -0.16727801, -0.62508622, -0.88540853,\n",
       "       -0.15830138, -0.76871232, -0.54429654, -0.54429654, -0.4186237 ,\n",
       "       -0.47248348, -0.37374054, -0.68792264, -0.66996938,  0.68550197,\n",
       "       -0.63406285,  1.31386618, -0.42760033, -0.66099274, -0.47248348,\n",
       "       -0.25704433, -0.50839001, -0.55327317, -0.3916938 , -0.58917969,\n",
       "       -0.75075906, -0.60713296, -0.45453022, -0.72382916, -0.48146012,\n",
       "       -0.47248348, -0.62508622, -0.61610959, -0.75075906,  1.48442217,\n",
       "       -0.5622498 ,  1.3497727 , -0.40067043,  1.47544554, -0.50839001,\n",
       "        1.52930533,  1.12535692, -0.58917969, -0.28397422, -0.54429654,\n",
       "       -0.54429654, -0.61610959, -0.52634327, -0.3916938 , -0.59815632,\n",
       "       -0.54429654, -0.57122643, -0.32885738, -0.81359548, -1.25345042,\n",
       "       -1.10982432, -0.8764319 , -0.97517485, -1.08289442, -0.79564222,\n",
       "       -1.01108137, -1.190614  , -1.0469879 , -1.25345042, -1.02903463,\n",
       "       -0.65201611, -0.74178243, -0.60713296, -0.59815632, -1.11880095,\n",
       "       -0.40964706, -1.28935695,  0.49699271, -1.20856726,  1.3767026 ,\n",
       "       -1.27140368, -0.47248348, -1.08289442,  1.36772596, -1.29833358,\n",
       "       -1.21754389, -0.65201611, -0.59815632, -0.2480677 , -0.90336179,\n",
       "       -0.45453022, -0.74178243, -0.72382916,  0.44313292, -0.31090412,\n",
       "       -0.7328058 , -0.19420791, -0.83154874, -1.13675421,  0.74833839,\n",
       "       -0.23011443, -0.89438516,  0.10202093, -0.55327317, -0.54429654,\n",
       "        0.19178724, -0.54429654, -0.52634327, -0.93926832, -0.88540853,\n",
       "        1.26000639,  0.08406767,  0.30848345, -1.43298305, -0.849502  ,\n",
       "       -0.74178243, -0.77768895, -0.65201611,  0.98173081,  0.98173081,\n",
       "        0.05713777, -0.25704433,  1.87939396,  3.10919247,  1.77167438,\n",
       "       -0.15830138, -0.72382916, -0.18523128, -0.63406285,  1.76269775,\n",
       "       -0.88540853,  0.58675903, -0.02365191,  1.08945039, -0.98415148,\n",
       "        0.11099756,  2.13971627,  2.84887015,  1.12535692,  0.55982913,\n",
       "        0.42517966,  0.20076388,  0.74833839,  2.34617879,  1.38567923,\n",
       "        1.10740365,  2.42696848,  2.04097332,  0.81117481,  1.40363249,\n",
       "        0.70345524,  0.29950682, -0.3916938 ,  0.8650346 , -0.93926832,\n",
       "        2.56161795,  1.60111838,  0.62266555, -0.58917969, -0.59815632,\n",
       "        1.34079607,  0.82912808,  0.83810471,  0.99968408,  0.3802965 ,\n",
       "        1.81655754,  1.22409986,  0.92787102,  0.21871714,  2.03199669,\n",
       "        0.62266555,  0.04816114,  0.15588072,  2.974543  ,  1.41260912,\n",
       "        1.74474449,  0.22769377,  1.58316512])"
      ]
     },
     "execution_count": 24,
     "metadata": {},
     "output_type": "execute_result"
    }
   ],
   "source": [
    "df_std[:, 1]"
   ]
  },
  {
   "cell_type": "code",
   "execution_count": 38,
   "id": "ce7fcc52-a237-4cc1-b9bb-e87ae7ab35f0",
   "metadata": {},
   "outputs": [
    {
     "name": "stdout",
     "output_type": "stream",
     "text": [
      "Mean after standardization. Alcohol= -0.00, Malic Acid: -0.00\n",
      "Standard Deviation after standardization. Alcohol= 0.21, Malic Acid: 0.22\n"
     ]
    }
   ],
   "source": [
    "print(\"Mean after standardization. Alcohol= {:.2f}, Malic Acid: {:.2f}\".format(df_std[:, 0].mean(), df_std[:, 1].mean()))\n",
    "\n",
    "print(\"Standard Deviation after standardization. Alcohol= {:.2f}, Malic Acid: {:.2f}\".format(df_minmax[:, 0].std(), df_minmax[:, 1].std()))"
   ]
  }
 ],
 "metadata": {
  "kernelspec": {
   "display_name": "ml",
   "language": "python",
   "name": "ml"
  },
  "language_info": {
   "codemirror_mode": {
    "name": "ipython",
    "version": 3
   },
   "file_extension": ".py",
   "mimetype": "text/x-python",
   "name": "python",
   "nbconvert_exporter": "python",
   "pygments_lexer": "ipython3",
   "version": "3.9.1"
  }
 },
 "nbformat": 4,
 "nbformat_minor": 5
}
