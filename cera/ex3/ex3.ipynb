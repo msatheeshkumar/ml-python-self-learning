{
 "cells": [
  {
   "cell_type": "code",
   "execution_count": 1,
   "metadata": {},
   "outputs": [
    {
     "name": "stdout",
     "output_type": "stream",
     "text": [
      "Exception reporting mode: Plain\n"
     ]
    }
   ],
   "source": [
    "import os\n",
    "import math\n",
    "import numpy as np\n",
    "import matplotlib.pyplot as plt\n",
    "import pandas as pd\n",
    "import scipy.optimize as opt\n",
    "from scipy import io\n",
    "%config InlineBackend.figure_format = 'retina'\n",
    "plt.style.use('fivethirtyeight')\n",
    "\n",
    "\n",
    "# For 3d plot\n",
    "from mpl_toolkits.mplot3d import axes3d, Axes3D\n",
    "from matplotlib import cm\n",
    "import itertools\n",
    "\n",
    "# very limited information when exception is caught\n",
    "%xmode Plain\n",
    "# %pdb on or %ipdb on # enable debugger when exception occurred"
   ]
  },
  {
   "cell_type": "code",
   "execution_count": 2,
   "metadata": {},
   "outputs": [],
   "source": [
    "# https://stackoverflow.com/questions/47834140/numpy-equivalent-of-matlabs-magic\n",
    "def magic_3(n):\n",
    "    if n % 2 == 0:\n",
    "        raise ValueError('n must be odd')\n",
    "    return np.mod((np.arange(n)[:, None] + np.arange(n)) + (n-1)//2+1, n)*n + \\\n",
    "          np.mod((np.arange(1, n+1)[:, None] + 2*np.arange(n)), n) + 1\n",
    "\n",
    "\n",
    "def magic_4x(n):\n",
    "    if n % 4 != 0:\n",
    "        raise ValueError('n must be a multiple of 4')\n",
    "    M = np.empty([n, n], dtype=int)\n",
    "    M[:, :n//2] = np.arange(1, n**2//2+1).reshape(-1, n).T\n",
    "    M[:, n//2:] = np.flipud(M[:, :n//2]) + (n**2//2)\n",
    "    M[1:n//2:2, :] = np.fliplr(M[1:n//2:2, :])\n",
    "    M[n//2::2, :] = np.fliplr(M[n//2::2, :])\n",
    "    return M\n",
    "\n",
    "def magic_n(n):\n",
    "  n = int(n)\n",
    "  if n < 3:\n",
    "    raise ValueError(\"Size must be at least 3\")\n",
    "  if n % 2 == 1:\n",
    "    p = np.arange(1, n+1)\n",
    "    return n*np.mod(p[:, None] + p - (n+3)//2, n) + np.mod(p[:, None] + 2*p-2, n) + 1\n",
    "  elif n % 4 == 0:\n",
    "    J = np.mod(np.arange(1, n+1), 4) // 2\n",
    "    K = J[:, None] == J\n",
    "    M = np.arange(1, n*n+1, n)[:, None] + np.arange(n)\n",
    "    M[K] = n*n + 1 - M[K]\n",
    "  else:\n",
    "    p = n//2\n",
    "    M = magic(p)\n",
    "    M = np.block([[M, M+2*p*p], [M+3*p*p, M+p*p]])\n",
    "    i = np.arange(p)\n",
    "    k = (n-2)//4\n",
    "    j = np.concatenate((np.arange(k), np.arange(n-k+1, n)))\n",
    "    M[np.ix_(np.concatenate((i, i+p)), j)] = M[np.ix_(np.concatenate((i+p, i)), j)]\n",
    "    M[np.ix_([k, k+p], [0, k])] = M[np.ix_([k+p, k], [0, k])]\n",
    "  return M "
   ]
  },
  {
   "cell_type": "code",
   "execution_count": 3,
   "metadata": {},
   "outputs": [
    {
     "data": {
      "text/plain": [
       "(['__header__', '__version__', '__globals__', 'X', 'y'],\n",
       " (5000, 401),\n",
       " (5000, 1))"
      ]
     },
     "execution_count": 3,
     "metadata": {},
     "output_type": "execute_result"
    }
   ],
   "source": [
    "ex3data = io.loadmat(os.path.join('data', 'ex3data1.mat'))\n",
    "X = ex3data['X']\n",
    "y = ex3data['y']\n",
    "\n",
    "X = np.insert(X, 0, 1, axis=1)\n",
    "\n",
    "list(ex3data.keys()), X.shape, y.shape"
   ]
  },
  {
   "cell_type": "code",
   "execution_count": 4,
   "metadata": {},
   "outputs": [
    {
     "data": {
      "text/plain": [
       "array([ 1,  2,  3,  4,  5,  6,  7,  8,  9, 10], dtype=uint8)"
      ]
     },
     "execution_count": 4,
     "metadata": {},
     "output_type": "execute_result"
    }
   ],
   "source": [
    "np.unique(y)"
   ]
  },
  {
   "cell_type": "code",
   "execution_count": 5,
   "metadata": {},
   "outputs": [
    {
     "data": {
      "text/plain": [
       "(100, 401)"
      ]
     },
     "execution_count": 5,
     "metadata": {},
     "output_type": "execute_result"
    }
   ],
   "source": [
    "rand_indices = np.random.choice(y.size, 100, replace = False)\n",
    "sel = X[rand_indices, :]\n",
    "sel.shape"
   ]
  },
  {
   "cell_type": "code",
   "execution_count": 6,
   "metadata": {},
   "outputs": [],
   "source": [
    "def displayImg(X, example_width = None, figsize=(10, 10)):\n",
    "    if X.ndim == 2:\n",
    "        m, n = X.shape\n",
    "    elif X.ndim == 1:\n",
    "        n = X.size\n",
    "        m = 1\n",
    "        X = X[None]\n",
    "    else:\n",
    "        raise IndexError('Input X should be 1 or 2 dimensional array')\n",
    "    print('m = %s, n = %s' %(m, n))\n",
    "    example_width = example_width or int(np.round(np.sqrt(n)))\n",
    "    example_height = int(n / example_width)\n",
    "    print('example_width = %s, example_height = %s' %(example_width, example_height))\n",
    "          \n",
    "    display_rows = int(np.floor(np.sqrt(m)))\n",
    "    display_cols = int(np.ceil( m / display_rows))\n",
    "    print('d_rows = %s, s_cols = %s' %(display_rows, display_cols))\n",
    "    \n",
    "    fig, ax_array = plt.subplots(display_rows, display_cols, figsize=figsize)\n",
    "    fig.subplots_adjust(wspace = 0.025, hspace = 0.025)\n",
    "    ax_array = [ax_array] if m == 1 else ax_array.ravel()\n",
    "\n",
    "    for i, ax in enumerate(ax_array):\n",
    "        ax.imshow(X[i].reshape(example_width, example_height, order = 'F'), cmap = 'Greys', extent = [0, 1, 0, 1])\n",
    "        ax.axis('off')\n",
    "    "
   ]
  },
  {
   "cell_type": "code",
   "execution_count": 7,
   "metadata": {
    "scrolled": true
   },
   "outputs": [
    {
     "name": "stdout",
     "output_type": "stream",
     "text": [
      "m = 100, n = 400\n",
      "example_width = 20, example_height = 20\n",
      "d_rows = 10, s_cols = 10\n"
     ]
    },
    {
     "data": {
      "image/png": "[encoded data removed]",
      "text/plain": [
       "<Figure size 720x720 with 100 Axes>"
      ]
     },
     "metadata": {
      "image/png": {
       "height": 574,
       "width": 655
      }
     },
     "output_type": "display_data"
    }
   ],
   "source": [
    "displayImg(sel[:, 1:]) # ingoring intercept term"
   ]
  },
  {
   "cell_type": "code",
   "execution_count": 8,
   "metadata": {},
   "outputs": [
    {
     "name": "stdout",
     "output_type": "stream",
     "text": [
      "1.0, 2.0, 3.0, 4.0\n",
      "1.0, 0.2, 0.7, 1.2\n",
      "1.0, 0.0, 1.0, 0.0, 1.0\n"
     ]
    }
   ],
   "source": [
    "theta_t = np.array([1, 2, 3 ,4], dtype=float)\n",
    "print('{:.1f}, {:.1f}, {:.1f}, {:.1f}'.format(*theta_t))\n",
    "X_t = np.concatenate([np.ones((5, 1)), np.arange(1, 16).reshape(5, 3, order = 'F')/10.0], axis=1)\n",
    "print('{:.1f}, {:.1f}, {:.1f}, {:.1f}'.format(*X_t[1, :]))\n",
    "y_t = np.array([1, 0, 1, 0, 1])\n",
    "print('{:.1f}, {:.1f}, {:.1f}, {:.1f}, {:.1f}'.format(*y_t))\n",
    "y_t = y_t[:, None]\n",
    "lambda_t = 3"
   ]
  },
  {
   "cell_type": "code",
   "execution_count": 9,
   "metadata": {},
   "outputs": [],
   "source": [
    "def sigmoid(z):\n",
    "    return 1 / (1 + np.exp(-z)) "
   ]
  },
  {
   "cell_type": "code",
   "execution_count": 10,
   "metadata": {},
   "outputs": [
    {
     "data": {
      "text/plain": [
       "0.5"
      ]
     },
     "execution_count": 10,
     "metadata": {},
     "output_type": "execute_result"
    }
   ],
   "source": [
    "sigmoid(0)"
   ]
  },
  {
   "cell_type": "code",
   "execution_count": 11,
   "metadata": {},
   "outputs": [],
   "source": [
    "def cost(theta, X, y, lr):\n",
    "    X = np.matrix(X)\n",
    "    y = np.matrix(y)\n",
    "    theta = np.matrix(theta)\n",
    "    m = len(X)\n",
    "    first = np.multiply(-y, np.log(sigmoid(np.dot(X,theta.T))))\n",
    "    second = np.multiply((1-y), np.log((1-sigmoid(np.dot(X,theta.T)))))\n",
    "    mean_first_second = (1/m) * np.sum(first - second) # without regularization\n",
    "    reg_term = (lr/(2*m)) / np.sum(np.square(theta)) # calculate regularization\n",
    "    cost_error = mean_first_second + reg_term # with regularization\n",
    "    return cost_error"
   ]
  },
  {
   "cell_type": "code",
   "execution_count": 36,
   "metadata": {},
   "outputs": [
    {
     "data": {
      "text/plain": [
       "((3, 4), (4,), (3, 1))"
      ]
     },
     "execution_count": 36,
     "metadata": {},
     "output_type": "execute_result"
    }
   ],
   "source": [
    "_X = magic_n(3)\n",
    "_X = np.insert(_X, 0, 1, axis = 1)\n",
    "_n = np.shape(_X)[1]\n",
    "_limit = 1 / math.sqrt(_n)\n",
    "#_theta = np.random.uniform(-_limit, _limit, (_n,)) \n",
    "_theta = np.array([-2, -1, 1, 2], dtype=float)\n",
    "_y = np.array([2, 0, 1])[:, None]\n",
    "_X.shape, _theta.shape, _y.shape"
   ]
  },
  {
   "cell_type": "code",
   "execution_count": 13,
   "metadata": {},
   "outputs": [
    {
     "data": {
      "text/plain": [
       "4.699833216477356"
      ]
     },
     "execution_count": 13,
     "metadata": {},
     "output_type": "execute_result"
    }
   ],
   "source": [
    "cost(_theta, _X, _y, 1)"
   ]
  },
  {
   "cell_type": "code",
   "execution_count": 14,
   "metadata": {},
   "outputs": [
    {
     "data": {
      "text/plain": [
       "(array([-0.04084596,  0.03084791,  0.02888504,  0.03301003]), (401,))"
      ]
     },
     "execution_count": 14,
     "metadata": {},
     "output_type": "execute_result"
    }
   ],
   "source": [
    "n_features = np.shape(X)[1]\n",
    "limit = 1 / math.sqrt(n_features)\n",
    "theta = np.random.uniform(-limit, limit, (n_features,))\n",
    "theta[1:5], theta.shape"
   ]
  },
  {
   "cell_type": "code",
   "execution_count": 15,
   "metadata": {},
   "outputs": [
    {
     "data": {
      "text/plain": [
       "False"
      ]
     },
     "execution_count": 15,
     "metadata": {},
     "output_type": "execute_result"
    }
   ],
   "source": [
    "np.isnan(X).any()"
   ]
  },
  {
   "cell_type": "code",
   "execution_count": 16,
   "metadata": {},
   "outputs": [
    {
     "data": {
      "text/plain": [
       "-40.94883162613682"
      ]
     },
     "execution_count": 16,
     "metadata": {},
     "output_type": "execute_result"
    }
   ],
   "source": [
    "cost(theta, X, y, 0)"
   ]
  },
  {
   "cell_type": "code",
   "execution_count": 17,
   "metadata": {},
   "outputs": [],
   "source": [
    "def gradient(theta, X, y, lr):\n",
    "    theta = np.matrix(theta) # shape: (1, 4) (1, 401)\n",
    "    J_theta = np.zeros(theta.shape[1])\n",
    "    X = np.matrix(X) # shape: (3, 4) (5000, 401)\n",
    "    y = np.matrix(y) # shape: (3, 1) (5000, 1)\n",
    "    n_samples = np.shape(X)[0]\n",
    "    h_x = sigmoid(X * theta.T) # shape: (3, 1) (5000, 1)\n",
    "    error = h_x - y #shape: (3, 1) (5000, 5000)\n",
    "    sum_error_x0 = (1/n_samples) * np.sum(np.multiply(error, X[:, [0]]))\n",
    "    J_theta[0] = sum_error_x0\n",
    "    sum_error_xn = ((X[:, 1:].T * error) / n_samples).T\n",
    "    sum_error_xn_lr = sum_error_xn + ((lr/n_samples) * theta[:, 1:])\n",
    "    #print(sum_error_xn_lr)\n",
    "    J_theta[1:] = sum_error_xn_lr\n",
    "    return J_theta"
   ]
  },
  {
   "cell_type": "code",
   "execution_count": 18,
   "metadata": {},
   "outputs": [
    {
     "name": "stdout",
     "output_type": "stream",
     "text": [
      "0.3172, -0.1277, 2.6481, 4.2379\n"
     ]
    }
   ],
   "source": [
    "_grad = gradient(_theta, _X, _y, 3) # (4, ), (3, 4), (3, )\n",
    "print('{:.4f}, {:.4f}, {:.4f}, {:.4f}'.format(*_grad))"
   ]
  },
  {
   "cell_type": "code",
   "execution_count": 19,
   "metadata": {},
   "outputs": [
    {
     "name": "stdout",
     "output_type": "stream",
     "text": [
      "-5.0226, -0.0000, 0.0000, 0.0000\n"
     ]
    }
   ],
   "source": [
    "grad = gradient(theta, X, y, 1)\n",
    "grad.shape\n",
    "print('{:.4f}, {:.4f}, {:.4f}, {:.4f}'.format(*grad[0:4]))"
   ]
  },
  {
   "cell_type": "code",
   "execution_count": 20,
   "metadata": {},
   "outputs": [
    {
     "data": {
      "text/plain": [
       "3.6902036733089005"
      ]
     },
     "execution_count": 20,
     "metadata": {},
     "output_type": "execute_result"
    }
   ],
   "source": [
    "J = cost(theta_t, X_t, y_t, lambda_t)\n",
    "J"
   ]
  },
  {
   "cell_type": "code",
   "execution_count": 21,
   "metadata": {},
   "outputs": [
    {
     "data": {
      "text/plain": [
       "array([0.39979637, 1.31996683, 2.11986501, 2.9197632 ])"
      ]
     },
     "execution_count": 21,
     "metadata": {},
     "output_type": "execute_result"
    }
   ],
   "source": [
    "grad = gradient(theta_t, X_t, y_t, lambda_t)\n",
    "grad"
   ]
  },
  {
   "cell_type": "code",
   "execution_count": 38,
   "metadata": {},
   "outputs": [],
   "source": [
    "def oneVsAll(X, y, num_labels, lambda_):\n",
    "    m_samples, n_features = X.shape \n",
    "    X = np.matrix(X)\n",
    "    y = np.matrix(y)\n",
    "    \n",
    "    all_theta = np.zeros((num_labels, n_features)) # shape: (3, 4)\n",
    "    \n",
    "    for c in range(num_labels):\n",
    "        initial_theta = np.zeros(n_features)\n",
    "        y_j = (y == c)\n",
    "                \n",
    "        fmin = minimize(fun=cost, x0=initial_theta, args=(X, y_j, lambda_), method='TNC', jac=gradient)\n",
    "        print(fmin)        \n"
   ]
  },
  {
   "cell_type": "code",
   "execution_count": 39,
   "metadata": {},
   "outputs": [],
   "source": [
    "_num_labels = 3"
   ]
  },
  {
   "cell_type": "code",
   "execution_count": 40,
   "metadata": {},
   "outputs": [
    {
     "ename": "NameError",
     "evalue": "name 'minimize' is not defined",
     "output_type": "error",
     "traceback": [
      "Traceback \u001b[0;36m(most recent call last)\u001b[0m:\n",
      "  File \u001b[1;32m\"<ipython-input-40-4a6a65e3a50b>\"\u001b[0m, line \u001b[1;32m1\u001b[0m, in \u001b[1;35m<module>\u001b[0m\n    oneVsAll(_X, _y, _num_labels, lambda_t)\n",
      "\u001b[0;36m  File \u001b[0;32m\"<ipython-input-38-39aa7b720c77>\"\u001b[0;36m, line \u001b[0;32m12\u001b[0;36m, in \u001b[0;35moneVsAll\u001b[0;36m\u001b[0m\n\u001b[0;31m    fmin = minimize(fun=cost, x0=initial_theta, args=(X, y_j, lambda_), method='TNC', jac=gradient)\u001b[0m\n",
      "\u001b[0;31mNameError\u001b[0m\u001b[0;31m:\u001b[0m name 'minimize' is not defined\n"
     ]
    }
   ],
   "source": [
    "oneVsAll(_X, _y, _num_labels, lambda_t)"
   ]
  },
  {
   "cell_type": "code",
   "execution_count": null,
   "metadata": {},
   "outputs": [],
   "source": []
  },
  {
   "cell_type": "code",
   "execution_count": null,
   "metadata": {},
   "outputs": [],
   "source": []
  },
  {
   "cell_type": "code",
   "execution_count": null,
   "metadata": {},
   "outputs": [],
   "source": []
  },
  {
   "cell_type": "code",
   "execution_count": null,
   "metadata": {},
   "outputs": [],
   "source": []
  },
  {
   "cell_type": "code",
   "execution_count": null,
   "metadata": {},
   "outputs": [],
   "source": []
  },
  {
   "cell_type": "code",
   "execution_count": null,
   "metadata": {},
   "outputs": [],
   "source": []
  },
  {
   "cell_type": "code",
   "execution_count": null,
   "metadata": {},
   "outputs": [],
   "source": []
  },
  {
   "cell_type": "code",
   "execution_count": null,
   "metadata": {},
   "outputs": [],
   "source": []
  },
  {
   "cell_type": "code",
   "execution_count": null,
   "metadata": {},
   "outputs": [],
   "source": []
  },
  {
   "cell_type": "code",
   "execution_count": null,
   "metadata": {},
   "outputs": [],
   "source": []
  },
  {
   "cell_type": "code",
   "execution_count": null,
   "metadata": {},
   "outputs": [],
   "source": []
  },
  {
   "cell_type": "code",
   "execution_count": null,
   "metadata": {},
   "outputs": [],
   "source": []
  },
  {
   "cell_type": "code",
   "execution_count": null,
   "metadata": {},
   "outputs": [],
   "source": []
  },
  {
   "cell_type": "code",
   "execution_count": null,
   "metadata": {},
   "outputs": [],
   "source": []
  },
  {
   "cell_type": "code",
   "execution_count": null,
   "metadata": {},
   "outputs": [],
   "source": []
  },
  {
   "cell_type": "code",
   "execution_count": null,
   "metadata": {},
   "outputs": [],
   "source": []
  },
  {
   "cell_type": "code",
   "execution_count": null,
   "metadata": {},
   "outputs": [],
   "source": []
  },
  {
   "cell_type": "code",
   "execution_count": null,
   "metadata": {},
   "outputs": [],
   "source": []
  },
  {
   "cell_type": "code",
   "execution_count": null,
   "metadata": {},
   "outputs": [],
   "source": []
  },
  {
   "cell_type": "code",
   "execution_count": null,
   "metadata": {},
   "outputs": [],
   "source": []
  },
  {
   "cell_type": "code",
   "execution_count": null,
   "metadata": {},
   "outputs": [],
   "source": []
  },
  {
   "cell_type": "code",
   "execution_count": null,
   "metadata": {},
   "outputs": [],
   "source": []
  },
  {
   "cell_type": "code",
   "execution_count": null,
   "metadata": {},
   "outputs": [],
   "source": []
  },
  {
   "cell_type": "code",
   "execution_count": null,
   "metadata": {},
   "outputs": [],
   "source": []
  },
  {
   "cell_type": "code",
   "execution_count": null,
   "metadata": {},
   "outputs": [],
   "source": []
  },
  {
   "cell_type": "code",
   "execution_count": null,
   "metadata": {},
   "outputs": [],
   "source": []
  }
 ],
 "metadata": {
  "kernelspec": {
   "display_name": "Python 3",
   "language": "python",
   "name": "python3"
  },
  "language_info": {
   "codemirror_mode": {
    "name": "ipython",
    "version": 3
   },
   "file_extension": ".py",
   "mimetype": "text/x-python",
   "name": "python",
   "nbconvert_exporter": "python",
   "pygments_lexer": "ipython3",
   "version": "3.6.5"
  }
 },
 "nbformat": 4,
 "nbformat_minor": 2
}
